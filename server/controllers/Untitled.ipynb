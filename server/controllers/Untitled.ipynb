{
 "cells": [
  {
   "cell_type": "code",
   "execution_count": 9,
   "id": "c9372374-e99d-43e7-9a55-4b78405e54fc",
   "metadata": {},
   "outputs": [
    {
     "name": "stdout",
     "output_type": "stream",
     "text": [
      "Merged CSV saved as: gujcet_with_2023_2024.csv\n"
     ]
    }
   ],
   "source": [
    "import pandas as pd\n",
    "\n",
    "# File paths\n",
    "gujcet_csv_path = \"jeew.csv\"\n",
    "cleaned_csv_path = \"Jee_2023_2024.csv\"\n",
    "output_csv_path = \"jee_with_2023_2024.csv\"\n",
    "\n",
    "# Load CSV files\n",
    "gujcet_df = pd.read_csv(gujcet_csv_path)\n",
    "cleaned_df = pd.read_csv(cleaned_csv_path)\n",
    "\n",
    "# Ensure required columns exist\n",
    "for col in [\"Allotted_Rank_2023\", \"Allotted_Rank_2024\"]:\n",
    "    if col not in cleaned_df.columns:\n",
    "        cleaned_df[col] = None\n",
    "\n",
    "# Select only needed columns\n",
    "cleaned_df = cleaned_df[[\"College\", \"Course\", \"Category\", \"Allotted_Rank_2023\", \"Allotted_Rank_2024\"]]\n",
    "\n",
    "# Merge based on College + Course + Category\n",
    "merged_df = pd.merge(\n",
    "    gujcet_df,\n",
    "    cleaned_df,\n",
    "    on=[\"College\", \"Course\", \"Category\"],\n",
    "    how=\"left\"\n",
    ")\n",
    "\n",
    "# Save result\n",
    "merged_df.to_csv(output_csv_path, index=False)\n",
    "print(f\"Merged CSV saved as: {output_csv_path}\")\n"
   ]
  },
  {
   "cell_type": "code",
   "execution_count": null,
   "id": "a1c5fb59-a5b8-460f-845b-896f216d43be",
   "metadata": {},
   "outputs": [],
   "source": []
  }
 ],
 "metadata": {
  "kernelspec": {
   "display_name": "Python 3 (ipykernel)",
   "language": "python",
   "name": "python3"
  },
  "language_info": {
   "codemirror_mode": {
    "name": "ipython",
    "version": 3
   },
   "file_extension": ".py",
   "mimetype": "text/x-python",
   "name": "python",
   "nbconvert_exporter": "python",
   "pygments_lexer": "ipython3",
   "version": "3.12.7"
  }
 },
 "nbformat": 4,
 "nbformat_minor": 5
}
